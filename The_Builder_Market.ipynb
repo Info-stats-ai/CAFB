{
  "nbformat": 4,
  "nbformat_minor": 0,
  "metadata": {
    "colab": {
      "provenance": [],
      "machine_shape": "hm",
      "gpuType": "V28",
      "mount_file_id": "1cTCxGSBB5FsKEpeG5l9PPSnXmD8rWq6z",
      "authorship_tag": "ABX9TyMWKFw8RhXYiThiDqkAdoan",
      "include_colab_link": true
    },
    "kernelspec": {
      "name": "python3",
      "display_name": "Python 3"
    },
    "language_info": {
      "name": "python"
    },
    "accelerator": "TPU"
  },
  "cells": [
    {
      "cell_type": "markdown",
      "metadata": {
        "id": "view-in-github",
        "colab_type": "text"
      },
      "source": [
        "<a href=\"https://colab.research.google.com/github/Info-stats-ai/CAFB/blob/main/The_Builder_Market.ipynb\" target=\"_parent\"><img src=\"https://colab.research.google.com/assets/colab-badge.svg\" alt=\"Open In Colab\"/></a>"
      ]
    },
    {
      "cell_type": "code",
      "execution_count": 1,
      "metadata": {
        "colab": {
          "base_uri": "https://localhost:8080/"
        },
        "id": "sWB1AJua_b4D",
        "outputId": "47c3d179-5581-43e3-aec3-afa520b1fb1e"
      },
      "outputs": [
        {
          "output_type": "stream",
          "name": "stdout",
          "text": [
            "Drive already mounted at /content/drive; to attempt to forcibly remount, call drive.mount(\"/content/drive\", force_remount=True).\n",
            "\n",
            "✅ Google Drive successfully mounted!\n"
          ]
        }
      ],
      "source": [
        "# Cell 1: Mount Google Drive\n",
        "from google.colab import drive\n",
        "\n",
        "# This will prompt you for authorization.\n",
        "# Click the link, sign in to your Google account, copy the authorization code,\n",
        "# and paste it back into the box in this cell.\n",
        "drive.mount('/content/drive')\n",
        "\n",
        "print(\"\\n✅ Google Drive successfully mounted!\")"
      ]
    },
    {
      "cell_type": "code",
      "source": [
        "# Install necessary libraries first\n",
        "!pip install pdfplumber -q"
      ],
      "metadata": {
        "colab": {
          "base_uri": "https://localhost:8080/"
        },
        "id": "V4zwFLVjhXWE",
        "outputId": "a1bac8d1-589c-40c1-c0c4-6354d690e3c6"
      },
      "execution_count": 2,
      "outputs": [
        {
          "output_type": "stream",
          "name": "stdout",
          "text": [
            "\u001b[2K     \u001b[90m━━━━━━━━━━━━━━━━━━━━━━━━━━━━━━━━━━━━━━━━\u001b[0m \u001b[32m42.8/42.8 kB\u001b[0m \u001b[31m1.7 MB/s\u001b[0m eta \u001b[36m0:00:00\u001b[0m\n",
            "\u001b[2K     \u001b[90m━━━━━━━━━━━━━━━━━━━━━━━━━━━━━━━━━━━━━━━━\u001b[0m \u001b[32m48.5/48.5 kB\u001b[0m \u001b[31m3.0 MB/s\u001b[0m eta \u001b[36m0:00:00\u001b[0m\n",
            "\u001b[2K   \u001b[90m━━━━━━━━━━━━━━━━━━━━━━━━━━━━━━━━━━━━━━━━\u001b[0m \u001b[32m60.0/60.0 kB\u001b[0m \u001b[31m3.7 MB/s\u001b[0m eta \u001b[36m0:00:00\u001b[0m\n",
            "\u001b[2K   \u001b[90m━━━━━━━━━━━━━━━━━━━━━━━━━━━━━━━━━━━━━━━━\u001b[0m \u001b[32m5.6/5.6 MB\u001b[0m \u001b[31m64.8 MB/s\u001b[0m eta \u001b[36m0:00:00\u001b[0m\n",
            "\u001b[2K   \u001b[90m━━━━━━━━━━━━━━━━━━━━━━━━━━━━━━━━━━━━━━━━\u001b[0m \u001b[32m2.8/2.8 MB\u001b[0m \u001b[31m84.7 MB/s\u001b[0m eta \u001b[36m0:00:00\u001b[0m\n",
            "\u001b[2K   \u001b[90m━━━━━━━━━━━━━━━━━━━━━━━━━━━━━━━━━━━━━━━━\u001b[0m \u001b[32m4.5/4.5 MB\u001b[0m \u001b[31m101.3 MB/s\u001b[0m eta \u001b[36m0:00:00\u001b[0m\n",
            "\u001b[?25h"
          ]
        }
      ]
    },
    {
      "cell_type": "code",
      "source": [
        "import os\n",
        "import zipfile"
      ],
      "metadata": {
        "id": "jwprxM6-ltsu"
      },
      "execution_count": 3,
      "outputs": []
    },
    {
      "cell_type": "code",
      "source": [
        "# --- CONFIGURATION ---\n",
        "# This path MUST point to the folder containing your UPLOADED ZIP FILES.\n",
        "# Please double-check that this is the correct path.\n",
        "pdf_zip_folder_path = \"/content/drive/My Drive/homeguide_zipped\" # <--- UPDATE THIS PATH if needed\n",
        "# -------------------\n",
        "\n",
        "# These are the temporary folders we will create in the Colab environment.\n",
        "unzipped_pdfs_folder = \"unzipped_pdfs\"\n",
        "text_output_folder = \"extracted_text\"\n",
        "\n",
        "# Create the folders to work in.\n",
        "os.makedirs(unzipped_pdfs_folder, exist_ok=True)\n",
        "os.makedirs(text_output_folder, exist_ok=True)\n",
        "\n",
        "print(\"\\n✅ Drive mounted and folders are set up successfully.\")\n",
        "print(f\"I will look for zip files in: '{pdf_zip_folder_path}'\")"
      ],
      "metadata": {
        "colab": {
          "base_uri": "https://localhost:8080/"
        },
        "id": "ssYMYob8lnEF",
        "outputId": "f0554e55-5466-467f-a221-f860281bb6cf"
      },
      "execution_count": 4,
      "outputs": [
        {
          "output_type": "stream",
          "name": "stdout",
          "text": [
            "\n",
            "✅ Drive mounted and folders are set up successfully.\n",
            "I will look for zip files in: '/content/drive/My Drive/homeguide_zipped'\n"
          ]
        }
      ]
    },
    {
      "cell_type": "code",
      "source": [
        "print(f\"--- Starting Step 3: Unzipping files from '{pdf_zip_folder_path}' ---\")\n",
        "\n",
        "if not os.path.exists(pdf_zip_folder_path):\n",
        "    print(f\"❌ ERROR: The folder '{pdf_zip_folder_path}' was not found.\")\n",
        "else:\n",
        "    zip_files = [f for f in os.listdir(pdf_zip_folder_path) if f.lower().endswith(\".zip\")]\n",
        "    if not zip_files:\n",
        "        print(f\"❌ ERROR: No .zip files were found in '{pdf_zip_folder_path}'.\")\n",
        "    else:\n",
        "        print(f\"Found {len(zip_files)} zip files to process...\")\n",
        "        for zip_filename in zip_files:\n",
        "            print(f\"   Unzipping '{zip_filename}'...\")\n",
        "            zip_path = os.path.join(pdf_zip_folder_path, zip_filename)\n",
        "            try:\n",
        "                with zipfile.ZipFile(zip_path, 'r') as zip_ref:\n",
        "                    zip_ref.extractall(unzipped_pdfs_folder)\n",
        "            except Exception as e:\n",
        "                print(f\"   ⚠️ Could not unzip '{zip_filename}'. Error: {e}\")\n",
        "\n",
        "        # Verify the result by counting the number of items in the output folder.\n",
        "        # Note: This counts files AND any sub-folders that were created.\n",
        "        total_items = len(os.listdir(unzipped_pdfs_folder))\n",
        "        print(f\"\\n✅ Unzipping complete! The '{unzipped_pdfs_folder}' folder now contains {total_items} items.\")"
      ],
      "metadata": {
        "colab": {
          "base_uri": "https://localhost:8080/"
        },
        "id": "PsD6OLBPlwUN",
        "outputId": "496fd822-e086-430c-ee98-5f73c0c7cf6d"
      },
      "execution_count": 5,
      "outputs": [
        {
          "output_type": "stream",
          "name": "stdout",
          "text": [
            "--- Starting Step 3: Unzipping files from '/content/drive/My Drive/homeguide_zipped' ---\n",
            "Found 3 zip files to process...\n",
            "   Unzipping 'Homeguide.zip'...\n",
            "   Unzipping 'Homeguide-20250902T030504Z-1-002.zip'...\n",
            "   Unzipping 'Homeguide-20250902T030504Z-1-001.zip'...\n",
            "\n",
            "✅ Unzipping complete! The 'unzipped_pdfs' folder now contains 1 items.\n"
          ]
        }
      ]
    },
    {
      "cell_type": "code",
      "source": [
        "# Step 4: Find All PDFs Recursively and Rename Them\n",
        "\n",
        "import os\n",
        "import json\n",
        "\n",
        "# This is the top-level folder we need to search inside.\n",
        "unzipped_pdfs_folder = \"unzipped_pdfs\"\n",
        "\n",
        "print(\"\\n--- Starting Step 4: Finding and renaming all PDFs ---\")\n",
        "\n",
        "# This list will store the full path to every PDF we find.\n",
        "all_pdf_paths = []\n",
        "\n",
        "# os.walk is a powerful function that goes through a directory and all its subdirectories.\n",
        "# This is what makes our script robust to the nested folder structure.\n",
        "for root, dirs, files in os.walk(unzipped_pdfs_folder):\n",
        "    for file in files:\n",
        "        if file.lower().endswith(\".pdf\"):\n",
        "            # We save the full, correct path to each PDF.\n",
        "            all_pdf_paths.append(os.path.join(root, file))\n",
        "\n",
        "total_files_found = len(all_pdf_paths)\n",
        "if total_files_found == 0:\n",
        "    print(\"❌ ERROR: No PDF files were found even after searching all subfolders.\")\n",
        "    print(\"Please check the 'unzipped_pdfs' folder to see if the files are there.\")\n",
        "else:\n",
        "    print(f\"✅ Success! Found {total_files_found} PDF files inside the subfolders.\")\n",
        "    print(\"Proceeding to rename...\")\n",
        "\n",
        "    name_mapping = {}\n",
        "    # This list will store the NEW paths of the renamed files for the next step.\n",
        "    renamed_files_paths = []\n",
        "\n",
        "    # Now, we loop through the full paths we found and rename each file.\n",
        "    for i, old_path in enumerate(all_pdf_paths):\n",
        "        try:\n",
        "            # The new path will be in the same directory as the old one.\n",
        "            new_path = os.path.join(os.path.dirname(old_path), f\"{i:04d}.pdf\")\n",
        "\n",
        "            # We map the new simple name back to the original full path for our records.\n",
        "            name_mapping[os.path.basename(new_path)] = old_path\n",
        "            os.rename(old_path, new_path)\n",
        "            renamed_files_paths.append(new_path)\n",
        "        except Exception as e:\n",
        "            print(f\"   ⚠️ Could not rename '{os.path.basename(old_path)}'. Error: {e}\")\n",
        "\n",
        "    # Save our mapping key for future reference.\n",
        "    with open('filename_mapping.json', 'w') as f:\n",
        "        json.dump(name_mapping, f, indent=4)\n",
        "\n",
        "    print(f\"\\n✅ Renaming complete! {len(name_mapping)} files are now in a simple format.\")"
      ],
      "metadata": {
        "colab": {
          "base_uri": "https://localhost:8080/"
        },
        "id": "tWYeCCfiqNYG",
        "outputId": "5d547f58-5628-4565-d75a-9f7340f571e3"
      },
      "execution_count": 6,
      "outputs": [
        {
          "output_type": "stream",
          "name": "stdout",
          "text": [
            "\n",
            "--- Starting Step 4: Finding and renaming all PDFs ---\n",
            "✅ Success! Found 900 PDF files inside the subfolders.\n",
            "Proceeding to rename...\n",
            "\n",
            "✅ Renaming complete! 900 files are now in a simple format.\n"
          ]
        }
      ]
    },
    {
      "cell_type": "code",
      "source": [
        "# Step 5: Extract Text Using pdfplumber\n",
        "\n",
        "import pdfplumber\n",
        "import os\n",
        "\n",
        "# These are the folders we are working with\n",
        "text_output_folder = \"extracted_text\"\n",
        "\n",
        "print(\"\\n--- Starting Step 5: Extracting text with the upgraded pdfplumber library ---\")\n",
        "\n",
        "# This script relies on the 'renamed_files_paths' list created in the previous cell.\n",
        "# This check ensures we have the list before we start.\n",
        "if 'renamed_files_paths' not in locals() or not renamed_files_paths:\n",
        "     print(\"❌ ERROR: Could not find the list of renamed files.\")\n",
        "     print(\"Please re-run the previous cell (Step 4) to generate the file list.\")\n",
        "else:\n",
        "    total_files_to_extract = len(renamed_files_paths)\n",
        "    print(f\"Found {total_files_to_extract} cleaned PDF files to process...\")\n",
        "\n",
        "    # Loop through our list of clean, renamed PDF paths\n",
        "    for i, pdf_path in enumerate(renamed_files_paths):\n",
        "        # Get the simple filename (e.g., \"0001.pdf\") for progress messages\n",
        "        pdf_filename = os.path.basename(pdf_path)\n",
        "\n",
        "        # Print a progress update every 50 files to show it's working\n",
        "        if (i + 1) % 50 == 0 or i == 0:\n",
        "            print(f\"Processing file {i+1}/{total_files_to_extract}: {pdf_filename}...\")\n",
        "\n",
        "        try:\n",
        "            full_text = \"\"\n",
        "            # Open the PDF with pdfplumber\n",
        "            with pdfplumber.open(pdf_path) as pdf:\n",
        "                # Loop through each page in the PDF\n",
        "                for page in pdf.pages:\n",
        "                    # .extract_text() is excellent at preserving the layout of tables.\n",
        "                    # x_tolerance=2 helps in aligning text that is slightly offset.\n",
        "                    text = page.extract_text(x_tolerance=2)\n",
        "                    if text:\n",
        "                        full_text += text + \"\\n\\n--- Page Break ---\\n\\n\"\n",
        "\n",
        "            # Create the output filename (e.g., \"0001.txt\")\n",
        "            text_filename = pdf_filename.replace('.pdf', '.txt')\n",
        "            output_path = os.path.join(text_output_folder, text_filename)\n",
        "\n",
        "            # Save the extracted text to the new file\n",
        "            with open(output_path, \"w\", encoding=\"utf-8\") as f:\n",
        "                f.write(full_text)\n",
        "        except Exception as e:\n",
        "            # If one PDF is corrupted or unreadable, this will log the error and continue\n",
        "            print(f\"   ⚠️ Could not process {pdf_filename}. It may be corrupted or empty. Error: {e}\")\n",
        "\n",
        "    print(f\"\\n✅✅✅ Data Preparation Complete! ✅✅✅\")\n",
        "    print(f\"High-quality text from all files has been extracted to the '{text_output_folder}' folder.\")"
      ],
      "metadata": {
        "colab": {
          "base_uri": "https://localhost:8080/"
        },
        "id": "FLJKVtwQrC8U",
        "outputId": "f726c093-b743-48ad-c75d-9ad3929f71a5"
      },
      "execution_count": null,
      "outputs": [
        {
          "output_type": "stream",
          "name": "stdout",
          "text": [
            "\n",
            "--- Starting Step 5: Extracting text with the upgraded pdfplumber library ---\n",
            "Found 900 cleaned PDF files to process...\n",
            "Processing file 1/900: 0000.pdf...\n"
          ]
        },
        {
          "output_type": "stream",
          "name": "stderr",
          "text": [
            "WARNING:pdfminer.pdffont:Could get FontBBox from font descriptor because None cannot be parsed as 4 floats\n",
            "WARNING:pdfminer.pdffont:Could get FontBBox from font descriptor because None cannot be parsed as 4 floats\n"
          ]
        },
        {
          "output_type": "stream",
          "name": "stdout",
          "text": [
            "Processing file 50/900: 0049.pdf...\n"
          ]
        },
        {
          "output_type": "stream",
          "name": "stderr",
          "text": [
            "WARNING:pdfminer.pdffont:Could get FontBBox from font descriptor because None cannot be parsed as 4 floats\n"
          ]
        },
        {
          "output_type": "stream",
          "name": "stdout",
          "text": [
            "Processing file 100/900: 0099.pdf...\n",
            "Processing file 150/900: 0149.pdf...\n"
          ]
        },
        {
          "output_type": "stream",
          "name": "stderr",
          "text": [
            "WARNING:pdfminer.pdffont:Could get FontBBox from font descriptor because None cannot be parsed as 4 floats\n"
          ]
        },
        {
          "output_type": "stream",
          "name": "stdout",
          "text": [
            "Processing file 200/900: 0199.pdf...\n"
          ]
        },
        {
          "output_type": "stream",
          "name": "stderr",
          "text": [
            "WARNING:pdfminer.pdffont:Could get FontBBox from font descriptor because None cannot be parsed as 4 floats\n"
          ]
        },
        {
          "output_type": "stream",
          "name": "stdout",
          "text": [
            "Processing file 250/900: 0249.pdf...\n"
          ]
        },
        {
          "output_type": "stream",
          "name": "stderr",
          "text": [
            "WARNING:pdfminer.pdffont:Could get FontBBox from font descriptor because None cannot be parsed as 4 floats\n"
          ]
        },
        {
          "output_type": "stream",
          "name": "stdout",
          "text": [
            "Processing file 300/900: 0299.pdf...\n"
          ]
        },
        {
          "output_type": "stream",
          "name": "stderr",
          "text": [
            "WARNING:pdfminer.pdffont:Could get FontBBox from font descriptor because None cannot be parsed as 4 floats\n"
          ]
        },
        {
          "output_type": "stream",
          "name": "stdout",
          "text": [
            "Processing file 350/900: 0349.pdf...\n",
            "Processing file 400/900: 0399.pdf...\n",
            "Processing file 450/900: 0449.pdf...\n"
          ]
        },
        {
          "output_type": "stream",
          "name": "stderr",
          "text": [
            "WARNING:pdfminer.pdffont:Could get FontBBox from font descriptor because None cannot be parsed as 4 floats\n"
          ]
        },
        {
          "output_type": "stream",
          "name": "stdout",
          "text": [
            "Processing file 500/900: 0499.pdf...\n"
          ]
        },
        {
          "output_type": "stream",
          "name": "stderr",
          "text": [
            "WARNING:pdfminer.pdffont:Could get FontBBox from font descriptor because None cannot be parsed as 4 floats\n",
            "WARNING:pdfminer.pdffont:Could get FontBBox from font descriptor because None cannot be parsed as 4 floats\n",
            "WARNING:pdfminer.pdffont:Could get FontBBox from font descriptor because None cannot be parsed as 4 floats\n"
          ]
        },
        {
          "output_type": "stream",
          "name": "stdout",
          "text": [
            "Processing file 550/900: 0549.pdf...\n",
            "Processing file 600/900: 0599.pdf...\n"
          ]
        }
      ]
    }
  ]
}